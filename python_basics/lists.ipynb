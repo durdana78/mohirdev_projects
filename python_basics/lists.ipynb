{
 "cells": [
  {
   "cell_type": "code",
   "execution_count": 11,
   "metadata": {},
   "outputs": [
    {
     "name": "stdout",
     "output_type": "stream",
     "text": [
      "Hello Fauziya, shall we hang out?\n",
      "Hey Nilufar, what was the math homework?\n",
      "Ohhh Guldana, how is the result?\n",
      "['Fauziya']\n"
     ]
    }
   ],
   "source": [
    "names = ['Fauziya','Nilufar','Guldana']\n",
    "print(f'Hello {names[0]}, shall we hang out?')\n",
    "print(f'Hey {names[1]}, what was the math homework?')\n",
    "print(f'Ohhh {names[2]}, how is the result?')\n",
    "guests = []\n",
    "guests.append(names.pop(0))\n",
    "print(guests)"
   ]
  },
  {
   "cell_type": "code",
   "execution_count": 7,
   "metadata": {},
   "outputs": [
    {
     "name": "stdout",
     "output_type": "stream",
     "text": [
      "5\n",
      "[-2, 5, 103, 68.23, -73, 29, 7]\n"
     ]
    }
   ],
   "source": [
    "numbers = [-2, 5, 103, 53.7, 68.23, -73, 29]\n",
    "numbers.append(7)\n",
    "numbers.insert(3,2)\n",
    "del numbers[3]\n",
    "numbers.remove(53.7)\n",
    "print(numbers[0] + numbers[-1])\n",
    "print(numbers)"
   ]
  },
  {
   "cell_type": "code",
   "execution_count": 8,
   "metadata": {},
   "outputs": [
    {
     "name": "stdout",
     "output_type": "stream",
     "text": [
      "Men tarixiy shaxslardan Amir Temur bilan, zamonaviy shaxslardan esa Shayboniyxon bilan suhbat qilishni istagan bo'lar edim\n"
     ]
    }
   ],
   "source": [
    "t_shaxslar = ['Amir Temur', 'Shayboniyxon']\n",
    "z_shaxslar = ['Elon Musk', 'Bill Gates']\n",
    "print(f\"Men tarixiy shaxslardan {t_shaxslar[0]} bilan, zamonaviy shaxslardan esa {t_shaxslar[1]} bilan suhbat qilishni istagan bo'lar edim\")"
   ]
  }
 ],
 "metadata": {
  "kernelspec": {
   "display_name": "Python 3",
   "language": "python",
   "name": "python3"
  },
  "language_info": {
   "codemirror_mode": {
    "name": "ipython",
    "version": 3
   },
   "file_extension": ".py",
   "mimetype": "text/x-python",
   "name": "python",
   "nbconvert_exporter": "python",
   "pygments_lexer": "ipython3",
   "version": "3.10.11"
  }
 },
 "nbformat": 4,
 "nbformat_minor": 2
}
