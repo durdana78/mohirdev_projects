{
 "cells": [
  {
   "cell_type": "code",
   "execution_count": null,
   "metadata": {},
   "outputs": [],
   "source": [
    "buyurtmalar = []\n",
    "n = 1\n",
    "while True :\n",
    "    buyurtma = input(f\"Iltimos,{n} - mahsulot nomini kiriting: \")\n",
    "    buyurtmalar.append(buyurtma)\n",
    "    savol = input(\"Yana buyurtma kiritishni xohlaysizmi?(ha/yo'q): \")\n",
    "    if savol != 'ha':\n",
    "        break\n",
    "    n += 1\n",
    "print(\"Sizning buyurtmalaringiz: \")\n",
    "for buyurtma in buyurtmalar :\n",
    "    print(buyurtma)    "
   ]
  },
  {
   "cell_type": "code",
   "execution_count": null,
   "metadata": {},
   "outputs": [],
   "source": [
    "e_bozor = {}\n",
    "n = 1\n",
    "while True:\n",
    "    mahsulot = input(f\"Iltimos, {n}-mahsulot nomini kiriting: \")\n",
    "    narx = int(input(f\"Iltimos, {n}-mahsulot narxini kiriting: \"))\n",
    "    e_bozor[mahsulot] = narx\n",
    "    savol = input(\"Yana mahsulot kiritishni xohlaysizmi?(ha/yo'q): \")\n",
    "    if savol != \"ha\":\n",
    "        break\n",
    "    n += 1\n",
    "print(\"Mahsulotlar ro'yhati: \")    \n",
    "for mahsulot,narx in e_bozor.items() :\n",
    "    print(f\"{mahsulot} : {narx} so'm\")\n"
   ]
  },
  {
   "cell_type": "code",
   "execution_count": null,
   "metadata": {},
   "outputs": [],
   "source": [
    "mahsulotlar = {'olma':20000,\n",
    "               'shaftoli':25000,\n",
    "               'tarvuz':18000,\n",
    "               'uzum':22000}\n",
    "\n",
    "buyurtmalar = []\n",
    "n = 1\n",
    "while True :\n",
    "    buyurtma = input(f\"Iltimos,{n} - mahsulot nomini kiriting: \")\n",
    "    buyurtmalar.append(buyurtma)\n",
    "    savol = input(\"Yana buyurtma kiritishni xohlaysizmi?(ha/yo'q): \")\n",
    "    if savol != 'ha':\n",
    "        break\n",
    "    n += 1\n",
    "\n",
    "while buyurtmalar :\n",
    "    mahsulot = buyurtmalar.pop()\n",
    "    if mahsulot in mahsulotlar:\n",
    "        print(f\"{mahsulot} narxi {mahsulotlar[mahsulot]} so'm\")\n",
    "    else :\n",
    "        print(f\"Kechirasiz, do'konimizda {mahsulot} yo'q\")    \n",
    "\n",
    "\n"
   ]
  }
 ],
 "metadata": {
  "kernelspec": {
   "display_name": "Python 3",
   "language": "python",
   "name": "python3"
  },
  "language_info": {
   "codemirror_mode": {
    "name": "ipython",
    "version": 3
   },
   "file_extension": ".py",
   "mimetype": "text/x-python",
   "name": "python",
   "nbconvert_exporter": "python",
   "pygments_lexer": "ipython3",
   "version": "3.10.11"
  }
 },
 "nbformat": 4,
 "nbformat_minor": 2
}
