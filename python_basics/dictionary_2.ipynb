{
 "cells": [
  {
   "cell_type": "code",
   "execution_count": 2,
   "metadata": {},
   "outputs": [
    {
     "name": "stdout",
     "output_type": "stream",
     "text": [
      "boolean : True/False datatype\n",
      "float : decimal son\n",
      "integer : butun son\n",
      "string : yozuv\n",
      "tuple : ozgarmas royhat\n"
     ]
    }
   ],
   "source": [
    "python_dict = {'string':'yozuv', 'integer':'butun son','float':'decimal son','boolean':'True/False datatype', 'tuple': 'ozgarmas royhat' }\n",
    "for key,value in sorted(python_dict.items()) :\n",
    "    print(f\"{key} : {value}\")\n"
   ]
  },
  {
   "cell_type": "code",
   "execution_count": 3,
   "metadata": {},
   "outputs": [
    {
     "name": "stdout",
     "output_type": "stream",
     "text": [
      "Countries: \n",
      "Kazakhstan\n",
      "Russia\n",
      "Uzbekistan\n",
      "Capitals: \n",
      "Moskva\n",
      "Nursultan\n",
      "Tashkent\n"
     ]
    }
   ],
   "source": [
    "country_capital = {'Uzbekistan':'Tashkent','Kazakhstan':'Nursultan','Russia':'Moskva',}\n",
    "countries = []\n",
    "capitals = []\n",
    "for country,capital in country_capital.items() :\n",
    "    countries.append(country)\n",
    "    capitals.append(capital)\n",
    "\n",
    "print('Countries: ')\n",
    "for country in sorted(countries) :\n",
    "    print(country) \n",
    "\n",
    "print('Capitals: ')\n",
    "for capital in sorted(capitals) :\n",
    "    print(capital)"
   ]
  },
  {
   "cell_type": "code",
   "execution_count": 7,
   "metadata": {},
   "outputs": [
    {
     "name": "stdout",
     "output_type": "stream",
     "text": [
      "The capital is moskva\n"
     ]
    }
   ],
   "source": [
    "country_capital = {'uzbekistan':'tashkent','kazakhstan':'nursultan','russia':'moskva',}\n",
    "quest = input('Please enter the country that you want to know the capital of:  ')\n",
    "if quest in country_capital :\n",
    "    print(f\"The capital is {country_capital[quest]}\")\n",
    "else:\n",
    "    print('We have no info about this country')    "
   ]
  },
  {
   "cell_type": "code",
   "execution_count": 9,
   "metadata": {},
   "outputs": [
    {
     "name": "stdout",
     "output_type": "stream",
     "text": [
      "Please enter 3 meals: \n",
      "The price of osh is 20000\n",
      "We dont have salat in our menu\n",
      "The price of somsa is 6000\n"
     ]
    }
   ],
   "source": [
    "menu = {\n",
    "        'osh':20000,\n",
    "        \"lag'mon\":22000,\n",
    "        'non':4000,\n",
    "        'choy':5000,\n",
    "        'shashlik':12000,\n",
    "        'somsa':6000,\n",
    "        'tabaka':15000\n",
    "        }\n",
    "\n",
    "buyurtma = []\n",
    "print('Please enter 3 meals: ')\n",
    "for i in range(3) :\n",
    "    buyurtma.append(input(f\"{i+1}-buyurtma: \"))\n",
    "\n",
    "for taom in buyurtma :\n",
    "    if taom in menu :\n",
    "        print(f\"The price of {taom} is {menu[taom]}\")\n",
    "    else :\n",
    "        print(f\"We dont have {taom} in our menu\")    "
   ]
  }
 ],
 "metadata": {
  "kernelspec": {
   "display_name": "Python 3",
   "language": "python",
   "name": "python3"
  },
  "language_info": {
   "codemirror_mode": {
    "name": "ipython",
    "version": 3
   },
   "file_extension": ".py",
   "mimetype": "text/x-python",
   "name": "python",
   "nbconvert_exporter": "python",
   "pygments_lexer": "ipython3",
   "version": "3.10.11"
  }
 },
 "nbformat": 4,
 "nbformat_minor": 2
}
