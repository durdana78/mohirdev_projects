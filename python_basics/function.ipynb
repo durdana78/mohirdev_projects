{
 "cells": [
  {
   "cell_type": "code",
   "execution_count": null,
   "metadata": {},
   "outputs": [],
   "source": [
    "def t_yil_top() :\n",
    "    ism = input(\"Please enter your name: \")\n",
    "    yosh = int(input(\"Please enter your age: \"))\n",
    "    t_yil = 2025 - yosh \n",
    "    print(f\"{ism.title()} {t_yil}-yili tug'ilgan.\")\n",
    "\n",
    "t_yil_top()\n"
   ]
  },
  {
   "cell_type": "code",
   "execution_count": null,
   "metadata": {},
   "outputs": [],
   "source": [
    "def sq_cube_num_find() :\n",
    "    num = int(input(\"Please enter a number: \"))\n",
    "    print(f\"The square of {num} is {num ** 2}.\")\n",
    "    print(f\"The cube of {num} is {num ** 3}.\")\n",
    "\n",
    "sq_cube_num_find()\n"
   ]
  },
  {
   "cell_type": "code",
   "execution_count": null,
   "metadata": {},
   "outputs": [],
   "source": [
    "def find_even_odd() :\n",
    "    num = int(input(\"Please enter a number: \"))\n",
    "    if num % 2 == 0 :\n",
    "        print(f\"{num} is an even number.\")\n",
    "    else :\n",
    "        print(f\"{num} is an odd number.\")  \n",
    "\n",
    "find_even_odd()         "
   ]
  },
  {
   "cell_type": "code",
   "execution_count": null,
   "metadata": {},
   "outputs": [],
   "source": [
    "def compare_nums():\n",
    "    num1 = int(input(\"Please enter the 1st number: \"))\n",
    "    num2 = int(input(\"Please 2nd number: \"))\n",
    "\n",
    "    if num2 > num1 :\n",
    "        print(f\"{num2} is bigger than {num1}\")\n",
    "    elif num1 > num2 :\n",
    "        print(f\"{num1} is bigger than {num2}.\")\n",
    "    else :\n",
    "        print(f\"{num1} and {num2} are equal.\")\n",
    "\n",
    "compare_nums()                "
   ]
  },
  {
   "cell_type": "code",
   "execution_count": null,
   "metadata": {},
   "outputs": [],
   "source": [
    "def find_factors() :\n",
    "    num = int(input(\"Please enter a number: \"))\n",
    "    for n in range(2,11) :\n",
    "        if num % n == 0 :\n",
    "            print(f\"{num} {n}ga bo'linadi\")\n",
    "        else :\n",
    "            print(f\"{num} {n}ga bo'linmaydi.\")\n",
    "\n",
    "find_factors()    \n",
    "\n"
   ]
  }
 ],
 "metadata": {
  "kernelspec": {
   "display_name": "Python 3",
   "language": "python",
   "name": "python3"
  },
  "language_info": {
   "codemirror_mode": {
    "name": "ipython",
    "version": 3
   },
   "file_extension": ".py",
   "mimetype": "text/x-python",
   "name": "python",
   "nbconvert_exporter": "python",
   "pygments_lexer": "ipython3",
   "version": "3.10.11"
  }
 },
 "nbformat": 4,
 "nbformat_minor": 2
}
