{
 "cells": [
  {
   "cell_type": "code",
   "execution_count": null,
   "metadata": {},
   "outputs": [],
   "source": [
    "def make_dict_info(ism, familya, t_yil, t_joy, tel_raqam, el_pochta = '' ) :\n",
    "    info = {\n",
    "        'name':ism,\n",
    "        'surname':familya,\n",
    "        'b_year':t_yil,\n",
    "        'b_loc':t_joy,\n",
    "        'email': el_pochta,\n",
    "        'phone_num': tel_raqam\n",
    "    }\n",
    "    return info\n",
    "   \n",
    "\n",
    "\n",
    "\n",
    "info_all = []\n",
    "n = 1\n",
    "while True:\n",
    "    name = input(f\"Please enter {n}th person's name: \")\n",
    "    surname = input(f\"Please enter {n}th person's surname: \")\n",
    "    b_year = int(input(f\"Please enter year  {n}th person was born: \"))\n",
    "    b_loc = input(f\"Please enter where {n}th person is from: \")\n",
    "    email = input(f\"Please enter {n}th person's email(optional): \")\n",
    "    phone_num = input(f\"Please enter {n}th person's phone number: \")\n",
    "    info1 = make_dict_info(name,surname,b_year,b_loc,phone_num,email)\n",
    "    info_all.append(info1)\n",
    "\n",
    "    quest = input(\"Do you want to add another person(yes\\no)? \")\n",
    "    if quest != 'yes' :\n",
    "        break\n",
    "    n += 1\n",
    "\n",
    "\n",
    "for info in info_all :\n",
    "    print(f\"Name: {info['name']}\"\n",
    "          f\"Surname: {info['surname']}\"\n",
    "          f\"Born year: {info['b_year']}\"\n",
    "          f\"Born place: {info['b_loc']}\"\n",
    "          f\"Phone number: {info['phone_num']}\"\n",
    "    )\n",
    "\n",
    "    if info['email'] :\n",
    "        print(f\"Email: {info['email']}\")\n",
    "    else :\n",
    "        print(f\"Email: \")    \n",
    "\n",
    "\n",
    "\n"
   ]
  },
  {
   "cell_type": "code",
   "execution_count": null,
   "metadata": {},
   "outputs": [],
   "source": [
    "def find_max_num(num1,num2,num3) :\n",
    "    max = num1\n",
    "    if max < num2 :\n",
    "        max = num2\n",
    "    if max < num3 :\n",
    "        max = num3\n",
    "    return max   "
   ]
  },
  {
   "cell_type": "code",
   "execution_count": null,
   "metadata": {},
   "outputs": [],
   "source": [
    "def give_circle_info(r) :\n",
    "    PI = 3.14\n",
    "    circle_info = {\n",
    "        'radius': r,\n",
    "        'diameter': 2*r,\n",
    "        'area': PI*(r ** 2),\n",
    "        'length': 2*PI*r\n",
    "    }\n",
    "    return circle_info\n",
    "\n"
   ]
  },
  {
   "cell_type": "code",
   "execution_count": null,
   "metadata": {},
   "outputs": [],
   "source": [
    "from math import sqrt\n",
    "def find_prime(min,max) :\n",
    "    prime_nums = []\n",
    "    for n in range(min,max):\n",
    "        for i in range(2,int(sqrt(n)) + 1) :\n",
    "            if n % i == 0 :\n",
    "                break\n",
    "        else :\n",
    "            prime_nums.append(n)\n",
    "\n",
    "    return prime_nums\n",
    "\n",
    "\n",
    "\n",
    "\n",
    "    "
   ]
  },
  {
   "cell_type": "code",
   "execution_count": null,
   "metadata": {},
   "outputs": [],
   "source": [
    "def fibonacci(n) :\n",
    "    fibonacci = []\n",
    "    num1 = 1\n",
    "    num2 = 1\n",
    "    fibonacci.append(num1)\n",
    "    fibonacci.append(num2)\n",
    "    for n in range(n - 2):\n",
    "        temp = num1\n",
    "        num1 = num2\n",
    "        num2 += temp\n",
    "        fibonacci.append(num2)\n",
    "\n",
    "    return fibonacci\n",
    "\n",
    "\n",
    "        \n",
    "\n",
    "        \n",
    "        "
   ]
  },
  {
   "cell_type": "code",
   "execution_count": null,
   "metadata": {},
   "outputs": [],
   "source": [
    "def fibonacci(n) :\n",
    "    sonlar = []\n",
    "    for i in range(n):\n",
    "        if i == 0 or i == 1 :\n",
    "            sonlar.append(1)\n",
    "        else :\n",
    "            sonlar.append(sonlar[i - 1] + sonlar[i - 2])\n",
    "    print(sonlar)   \n",
    "\n",
    "fibonacci(10)"
   ]
  },
  {
   "cell_type": "code",
   "execution_count": null,
   "metadata": {},
   "outputs": [],
   "source": [
    "def create_list(min,max,qadam = 1) :\n",
    "    sonlar = []\n",
    "    while min < max :\n",
    "        sonlar.append(min)\n",
    "        min += qadam\n",
    "\n",
    "    return sonlar  \n",
    "\n",
    "\n",
    "result = create_list(2,20,3)\n",
    "\n"
   ]
  }
 ],
 "metadata": {
  "kernelspec": {
   "display_name": "Python 3",
   "language": "python",
   "name": "python3"
  },
  "language_info": {
   "codemirror_mode": {
    "name": "ipython",
    "version": 3
   },
   "file_extension": ".py",
   "mimetype": "text/x-python",
   "name": "python",
   "nbconvert_exporter": "python",
   "pygments_lexer": "ipython3",
   "version": "3.10.11"
  }
 },
 "nbformat": 4,
 "nbformat_minor": 2
}
