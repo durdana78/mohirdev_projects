{
 "cells": [
  {
   "cell_type": "code",
   "execution_count": 6,
   "metadata": {},
   "outputs": [
    {
     "name": "stdout",
     "output_type": "stream",
     "text": [
      "['ali', 'vali', 'hasan', 'husan']\n",
      "['Ali', 'Vali', 'Hasan', 'Husan']\n"
     ]
    }
   ],
   "source": [
    "def katta_harflar(ismlar) :\n",
    "    for i in range(len(ismlar)) :\n",
    "        ismlar[i] = ismlar[i].title()\n",
    "\n",
    "    return ismlar\n",
    "\n",
    "\n",
    "ismlarr = ['ali', 'vali', 'hasan', 'husan']\n",
    "\n",
    "result = katta_harflar(ismlarr[:])\n",
    "print(ismlarr)\n",
    "print(result)"
   ]
  },
  {
   "cell_type": "code",
   "execution_count": 7,
   "metadata": {},
   "outputs": [
    {
     "name": "stdout",
     "output_type": "stream",
     "text": [
      "['ali', 'vali', 'hasan', 'husan']\n",
      "{'husan': '5', 'hasan': '4', 'vali': '5', 'ali': '3'}\n"
     ]
    }
   ],
   "source": [
    "def bahola(ismlar):\n",
    "    baholar = {}\n",
    "    while ismlar:\n",
    "        ism = ismlar[-1]\n",
    "        del ismlar[-1]\n",
    "        baho = input(f\"Talaba {ism.title()}ning bahosini kiriting: \")\n",
    "        baholar[ism]=baho\n",
    "    return baholar\n",
    "\n",
    "talabalar = ['ali', 'vali', 'hasan', 'husan']\n",
    "baholar = bahola(talabalar[:])\n",
    "print(talabalar)\n",
    "print(baholar)"
   ]
  }
 ],
 "metadata": {
  "kernelspec": {
   "display_name": "Python 3",
   "language": "python",
   "name": "python3"
  },
  "language_info": {
   "codemirror_mode": {
    "name": "ipython",
    "version": 3
   },
   "file_extension": ".py",
   "mimetype": "text/x-python",
   "name": "python",
   "nbconvert_exporter": "python",
   "pygments_lexer": "ipython3",
   "version": "3.10.11"
  }
 },
 "nbformat": 4,
 "nbformat_minor": 2
}
