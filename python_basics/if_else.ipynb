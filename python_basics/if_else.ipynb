{
 "cells": [
  {
   "cell_type": "code",
   "execution_count": null,
   "metadata": {},
   "outputs": [],
   "source": [
    "cars = ['toyota', 'mazda', 'hyundai', 'gm', 'kia']\n",
    "for car in cars:\n",
    "    if car != 'gm' :\n",
    "        print(car.title())\n",
    "    else :\n",
    "        print(car.upper())         "
   ]
  },
  {
   "cell_type": "code",
   "execution_count": null,
   "metadata": {},
   "outputs": [],
   "source": [
    "login = input('Please enter the login')\n",
    "if login == 'admin' :\n",
    "    print(\"Xush kelibsiz, Admin. Foydalanuvchilar ro'yxatini ko'rasizmi?\")\n",
    "else :\n",
    "    print(f\"Xush kelibsiz, {login}!\")    \n"
   ]
  },
  {
   "cell_type": "code",
   "execution_count": null,
   "metadata": {},
   "outputs": [],
   "source": [
    "num1 = int(input(\"Insert the first number: \"))\n",
    "num2 = int(input('Insert the second number: '))\n",
    "if num1 == num2 :\n",
    "    print(\"To numbers are equal\")\n",
    "else :\n",
    "    print(\"Those two numbers are not equal\")    "
   ]
  },
  {
   "cell_type": "code",
   "execution_count": 8,
   "metadata": {},
   "outputs": [
    {
     "name": "stdout",
     "output_type": "stream",
     "text": [
      "This number is negative\n"
     ]
    }
   ],
   "source": [
    "num = float(input(\"Insert any number: \"))\n",
    "if num < 0:\n",
    "    print(\"This number is negative\")\n",
    "elif num > 0 :\n",
    "    print(\"This number is positive\")\n",
    "else :\n",
    "    print(\"This number is zero.\")        "
   ]
  },
  {
   "cell_type": "code",
   "execution_count": 12,
   "metadata": {},
   "outputs": [
    {
     "name": "stdout",
     "output_type": "stream",
     "text": [
      "Please, insert a positive number.\n"
     ]
    }
   ],
   "source": [
    "from math import sqrt\n",
    "num = float(input(\"Insert a positive number: \"))\n",
    "if num >= 0 :\n",
    "    print(sqrt(num))\n",
    "else :\n",
    "    print(\"Please, insert a positive number.\")    "
   ]
  }
 ],
 "metadata": {
  "kernelspec": {
   "display_name": "Python 3",
   "language": "python",
   "name": "python3"
  },
  "language_info": {
   "codemirror_mode": {
    "name": "ipython",
    "version": 3
   },
   "file_extension": ".py",
   "mimetype": "text/x-python",
   "name": "python",
   "nbconvert_exporter": "python",
   "pygments_lexer": "ipython3",
   "version": "3.10.11"
  }
 },
 "nbformat": 4,
 "nbformat_minor": 2
}
