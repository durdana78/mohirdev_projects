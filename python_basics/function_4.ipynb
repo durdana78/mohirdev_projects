{
 "cells": [
  {
   "cell_type": "code",
   "execution_count": 1,
   "metadata": {},
   "outputs": [
    {
     "name": "stdout",
     "output_type": "stream",
     "text": [
      "24\n"
     ]
    }
   ],
   "source": [
    "def multiply(*nums) :\n",
    "    total = 1\n",
    "    for num in nums :\n",
    "        total *= num\n",
    "\n",
    "    return total\n",
    "\n",
    "result = multiply(2,3,4)\n",
    "print(result)    "
   ]
  },
  {
   "cell_type": "code",
   "execution_count": 3,
   "metadata": {},
   "outputs": [
    {
     "name": "stdout",
     "output_type": "stream",
     "text": [
      "{'tyil': 1995, 'fakultet': 'IT', 'yonalish': 'AT', 'ism': 'olim', 'familya': 'olimov'}\n"
     ]
    }
   ],
   "source": [
    "def collect_student_info(name,surname,**kwargs) :\n",
    "    kwargs['ism'] = name\n",
    "    kwargs['familya'] = surname\n",
    "    return kwargs\n",
    "\n",
    "talaba = collect_student_info('olim','olimov',tyil=1995,fakultet='IT',yonalish='AT')\n",
    "print(talaba)\n",
    "    \n"
   ]
  }
 ],
 "metadata": {
  "kernelspec": {
   "display_name": "Python 3",
   "language": "python",
   "name": "python3"
  },
  "language_info": {
   "codemirror_mode": {
    "name": "ipython",
    "version": 3
   },
   "file_extension": ".py",
   "mimetype": "text/x-python",
   "name": "python",
   "nbconvert_exporter": "python",
   "pygments_lexer": "ipython3",
   "version": "3.10.11"
  }
 },
 "nbformat": 4,
 "nbformat_minor": 2
}
