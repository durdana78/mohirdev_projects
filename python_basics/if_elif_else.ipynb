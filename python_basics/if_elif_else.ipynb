{
 "cells": [
  {
   "cell_type": "code",
   "execution_count": null,
   "metadata": {},
   "outputs": [],
   "source": [
    "num = int(input('Please enter an even number: '))\n",
    "if num % 2 == 0 :\n",
    "    print('Thanks!')\n",
    "else :\n",
    "    print('This is not an even number.')    "
   ]
  },
  {
   "cell_type": "code",
   "execution_count": null,
   "metadata": {},
   "outputs": [],
   "source": [
    "age = int(input('Please enter your age: '))\n",
    "if age < 4 or age > 60 :\n",
    "    price = 0\n",
    "elif age < 18 :\n",
    "    price = 10_000\n",
    "elif age >= 18 :\n",
    "    price = 20_000\n",
    "print(f'Muzeyga kirish narxi {price} so\\'m')            "
   ]
  },
  {
   "cell_type": "code",
   "execution_count": null,
   "metadata": {},
   "outputs": [],
   "source": [
    "num1 = int(input('Please enter the first number: '))\n",
    "num2 = int(input('Please enter the second number: '))\n",
    "if num1 == num2 :\n",
    "    print('These numbers are equal.')\n",
    "elif num1 > num2 :\n",
    "    print(f'{num1} is bigger than {num2}')\n",
    "else :\n",
    "    print(f'{num2} is bigger than {num1}')        "
   ]
  },
  {
   "cell_type": "code",
   "execution_count": null,
   "metadata": {},
   "outputs": [],
   "source": [
    "mahsulotlar = ['olma', 'tuxum', 'non', 'saryog\\'', 'go\\'sht','sut','pomidor', 'bodring', 'makaron']\n",
    "savat = []\n",
    "num_product = int(input('Enter how many products you are planning to buy: '))\n",
    "\n",
    "for i in range(num_product) :\n",
    "    savat.append(input(f'{i+1}-mahsulot:'))\n",
    "    \n",
    "for product in savat :    \n",
    "    if product in mahsulotlar :\n",
    "        print(f'{product} do\\'konimizda bor, xarid qilishingiz mumkin')\n",
    "    else :\n",
    "        print(f'Kechirasiz, {product} do\\'konimizda yo\\'q')    "
   ]
  },
  {
   "cell_type": "code",
   "execution_count": 13,
   "metadata": {},
   "outputs": [
    {
     "name": "stdout",
     "output_type": "stream",
     "text": [
      "Please enter 5 products.\n",
      "Siz so'ragan barcha mahsulotlar do'konimizda bor.\n"
     ]
    }
   ],
   "source": [
    "mahsulotlar = ['olma', 'tuxum', 'non', 'saryog\\'', 'go\\'sht','sut','pomidor', 'bodring', 'makaron']\n",
    "savat = []\n",
    "bor_mahsulotlar = []\n",
    "mavjud_emas = []\n",
    "print('Please enter 5 products.')\n",
    "\n",
    "for i in range(5) :\n",
    "    savat.append(input(f'{i+1}-mahsulot:'))\n",
    "    \n",
    "for product in savat :    \n",
    "    if product in mahsulotlar :\n",
    "        bor_mahsulotlar.append(product)\n",
    "    else :\n",
    "        mavjud_emas.append(product)    \n",
    "\n",
    "if not mavjud_emas :\n",
    "    print(\"Siz so'ragan barcha mahsulotlar do'konimizda bor.\")\n",
    "else :\n",
    "    print(\"Quyidagi mahsulotlar do'konimizda yo'q: \")            \n",
    "    for product in mavjud_emas:\n",
    "        print(product)\n"
   ]
  },
  {
   "cell_type": "code",
   "execution_count": null,
   "metadata": {},
   "outputs": [],
   "source": [
    "foydalanuvchilar = ['oydin','aslan', 'mohizar','baxtiyor','umar','durdona']\n",
    "username = (input('Please enter a login name')).lower()\n",
    "if username in foydalanuvchilar :\n",
    "    print('Login band, yangi login tanlang')\n",
    "else :\n",
    "    foydalanuvchilar.append(username)\n",
    "    print(f\"Xush kelibsiz, hurmatli {username}\")    "
   ]
  },
  {
   "cell_type": "code",
   "execution_count": 14,
   "metadata": {},
   "outputs": [
    {
     "name": "stdout",
     "output_type": "stream",
     "text": [
      "Bu son 2 bilan 10 orasidagi quyidagi sonlarga bo'linadi\n",
      "2\n",
      "5\n",
      "10\n"
     ]
    }
   ],
   "source": [
    "num = int(input(\"Please enter a  number :\"))\n",
    "factor_nums = []\n",
    "for i in range(2,11) :\n",
    "    if num % i == 0 :\n",
    "        factor_nums.append(i)\n",
    "print(\"Bu son 2 bilan 10 orasidagi quyidagi sonlarga bo'linadi\")\n",
    "for num in factor_nums :\n",
    "    print(num)        "
   ]
  }
 ],
 "metadata": {
  "kernelspec": {
   "display_name": "Python 3",
   "language": "python",
   "name": "python3"
  },
  "language_info": {
   "codemirror_mode": {
    "name": "ipython",
    "version": 3
   },
   "file_extension": ".py",
   "mimetype": "text/x-python",
   "name": "python",
   "nbconvert_exporter": "python",
   "pygments_lexer": "ipython3",
   "version": "3.10.11"
  }
 },
 "nbformat": 4,
 "nbformat_minor": 2
}
