{
 "cells": [
  {
   "cell_type": "code",
   "execution_count": null,
   "metadata": {},
   "outputs": [],
   "source": [
    "import datetime as dt\n",
    "hozir = dt.datetime.now()\n",
    "print(hozir)\n",
    "print(hozir.date())\n",
    "print(hozir.time())\n",
    "print(hozir.hour)\n",
    "print(hozir.minute)\n",
    "print(hozir.second)"
   ]
  },
  {
   "cell_type": "code",
   "execution_count": null,
   "metadata": {},
   "outputs": [],
   "source": [
    "import datetime as dt\n",
    "bugun = dt.date.today()\n",
    "ertaga = dt.date(2025,7,29)\n",
    "print(f\"Today: {bugun}\")\n",
    "print(f\"Tomorrow: {ertaga}\")"
   ]
  },
  {
   "cell_type": "code",
   "execution_count": null,
   "metadata": {},
   "outputs": [],
   "source": [
    "\n",
    "from datetime import datetime, timedelta\n",
    "\n",
    "today = dt.date.today()\n",
    "for n in range(10) :\n",
    "    date = today + timedelta(weeks = 2*n)\n",
    "    print(date.strftime(\"%d-%m-%Y\"))"
   ]
  },
  {
   "cell_type": "code",
   "execution_count": 26,
   "metadata": {},
   "outputs": [
    {
     "name": "stdout",
     "output_type": "stream",
     "text": [
      "204 days left till Ramadan!\n",
      "303 days left till Qurbani Eid!\n"
     ]
    }
   ],
   "source": [
    "today = dt.date.today()\n",
    "ramadan = dt.date(2026,2,17)\n",
    "qurbani_eid = dt.date(2026,5,27)\n",
    "\n",
    "difference1 = ramadan - today\n",
    "difference2 = qurbani_eid - today\n",
    "\n",
    "print(f\"{difference1.days} days left till Ramadan!\")\n",
    "print(f\"{difference2.days} days left till Qurbani Eid!\")"
   ]
  },
  {
   "cell_type": "code",
   "execution_count": 31,
   "metadata": {},
   "outputs": [
    {
     "name": "stdout",
     "output_type": "stream",
     "text": [
      "0\n"
     ]
    }
   ],
   "source": [
    "b_day = dt.date(2024,10,6)\n",
    "today = dt.date.today()\n",
    "farq = today - b_day\n",
    "sekundlar = farq.seconds\n",
    "print(sekundlar)"
   ]
  },
  {
   "cell_type": "code",
   "execution_count": 33,
   "metadata": {},
   "outputs": [
    {
     "name": "stdout",
     "output_type": "stream",
     "text": [
      "Raqamingiz qabul qilindi.\n"
     ]
    }
   ],
   "source": [
    "import re\n",
    "andoza = \"^[\\+]?[(]?[0-9]{3}[)]?[-\\s\\.]?[0-9]{3}[-\\s\\.]?[0-9]{4,6}$\"\n",
    "tel_raqam = input(\"Enter your phone number>>>\")\n",
    "if re.match(andoza,tel_raqam) :\n",
    "    print(\"Raqamingiz qabul qilindi.\")\n",
    "else :\n",
    "    print(\"Raqamingiz to'liq kiritilmagan.\")\n"
   ]
  },
  {
   "cell_type": "code",
   "execution_count": 34,
   "metadata": {},
   "outputs": [
    {
     "name": "stdout",
     "output_type": "stream",
     "text": [
      "['https://youtu.be/vsxJPRLXpgI', 'https://python.sariq.dev/testing/37-klass-test']\n"
     ]
    }
   ],
   "source": [
    "import re\n",
    "def extract_urls(url) :\n",
    "    pattern = r'https?://[^\\s]+'\n",
    "    urls = re.findall(pattern,url)\n",
    "    return urls\n",
    "\n",
    "\n",
    "\n",
    "matn = \"ssalom alaykum hurmatli do'stlar. Navbatdagi darsimiz YouTubega yuklandi: https://youtu.be/vsxJPRLXpgI Ushbu darsimizda unittest moduli yordamida klasslarning xususiyatlar va metodlarini tekshiruvchi dastur yozishni o'rganamiz. Bugungi dars manzili: https://python.sariq.dev/testing/37-klass-test\"\n",
    "result = extract_urls(matn)\n",
    "print(result)"
   ]
  }
 ],
 "metadata": {
  "kernelspec": {
   "display_name": "Python 3",
   "language": "python",
   "name": "python3"
  },
  "language_info": {
   "codemirror_mode": {
    "name": "ipython",
    "version": 3
   },
   "file_extension": ".py",
   "mimetype": "text/x-python",
   "name": "python",
   "nbconvert_exporter": "python",
   "pygments_lexer": "ipython3",
   "version": "3.10.11"
  }
 },
 "nbformat": 4,
 "nbformat_minor": 2
}
