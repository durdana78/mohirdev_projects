{
 "cells": [
  {
   "cell_type": "code",
   "execution_count": 11,
   "metadata": {},
   "outputs": [
    {
     "name": "stdout",
     "output_type": "stream",
     "text": [
      "The difference between the max and min numbers is 1080\n",
      "Elementlar soni:  541\n"
     ]
    }
   ],
   "source": [
    "countries = ['Uzbekistan','Malaysia','China','Russia','Indonesia','USA','Finland']\n",
    "countries.reverse()\n",
    "#print(countries)\n"
   ]
  },
  {
   "cell_type": "code",
   "execution_count": null,
   "metadata": {},
   "outputs": [],
   "source": [
    "even_nums = list(range(120,1201,2))\n",
    "total = sum(even_nums)\n",
    "#print(f'The sum is {total}')\n",
    "max_num = max(even_nums)\n",
    "min_num = min(even_nums)\n",
    "difference = max_num - min_num\n",
    "print(f'The difference between the max and min numbers is {difference}')\n",
    "print('Elementlar soni: ', len(even_nums))\n",
    "first = even_nums[0:21]\n",
    "start = len(even_nums) // 2 - 10\n",
    "end = start + 20\n",
    "second = even_nums[start:end]\n",
    "third = even_nums[(len(even_nums) - 21) : (len(even_nums) - 1)]\n"
   ]
  },
  {
   "cell_type": "code",
   "execution_count": 14,
   "metadata": {},
   "outputs": [
    {
     "name": "stdout",
     "output_type": "stream",
     "text": [
      "['osh', \"lag'mon\", \"sho'rva\", 'somsa', 'chuchvara', 'dimlama']\n",
      "['osh', 'manti', \"lag'mon\", \"sho'rva\", 'somsa']\n"
     ]
    },
    {
     "ename": "TypeError",
     "evalue": "'tuple' object does not support item assignment",
     "output_type": "error",
     "traceback": [
      "\u001b[1;31m---------------------------------------------------------------------------\u001b[0m",
      "\u001b[1;31mTypeError\u001b[0m                                 Traceback (most recent call last)",
      "Cell \u001b[1;32mIn[14], line 9\u001b[0m\n\u001b[0;32m      7\u001b[0m \u001b[38;5;28mprint\u001b[39m(taomlar)\n\u001b[0;32m      8\u001b[0m nonushta \u001b[38;5;241m=\u001b[39m \u001b[38;5;28mtuple\u001b[39m(nonushta)\n\u001b[1;32m----> 9\u001b[0m \u001b[43mnonushta\u001b[49m\u001b[43m[\u001b[49m\u001b[38;5;241;43m0\u001b[39;49m\u001b[43m]\u001b[49m \u001b[38;5;241m=\u001b[39m \u001b[38;5;124m'\u001b[39m\u001b[38;5;124mqaymoq va non\u001b[39m\u001b[38;5;124m'\u001b[39m\n",
      "\u001b[1;31mTypeError\u001b[0m: 'tuple' object does not support item assignment"
     ]
    }
   ],
   "source": [
    "taomlar = ['osh', 'manti','lag\\'mon','sho\\'rva','somsa']\n",
    "nonushta = taomlar[:]\n",
    "nonushta.remove('manti')\n",
    "nonushta.append('chuchvara')\n",
    "nonushta.append('dimlama')\n",
    "print(nonushta)\n",
    "print(taomlar)\n",
    "nonushta = tuple(nonushta)\n",
    "nonushta[0] = 'qaymoq va non'"
   ]
  }
 ],
 "metadata": {
  "kernelspec": {
   "display_name": "Python 3",
   "language": "python",
   "name": "python3"
  },
  "language_info": {
   "codemirror_mode": {
    "name": "ipython",
    "version": 3
   },
   "file_extension": ".py",
   "mimetype": "text/x-python",
   "name": "python",
   "nbconvert_exporter": "python",
   "pygments_lexer": "ipython3",
   "version": "3.10.11"
  }
 },
 "nbformat": 4,
 "nbformat_minor": 2
}
