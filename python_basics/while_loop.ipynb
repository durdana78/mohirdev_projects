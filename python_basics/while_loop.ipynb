{
 "cells": [
  {
   "cell_type": "code",
   "execution_count": null,
   "metadata": {},
   "outputs": [],
   "source": [
    "fav_books = []\n",
    "book = ' '\n",
    "while book != 'stop' :\n",
    "    book = input(\"Please enter your favourite book.\\n \" \\\n",
    "    \"To stop, enter 'stop'.\")\n",
    "    if book != 'stop' :\n",
    "        fav_books.append(book)\n",
    "        print('Done!')\n",
    "\n",
    "print(\"Your favourite books are: \")\n",
    "for book in fav_books :\n",
    "    print(book)        \n"
   ]
  },
  {
   "cell_type": "code",
   "execution_count": null,
   "metadata": {},
   "outputs": [],
   "source": [
    "while True :\n",
    "    age = input(\"Please enter your age (To exit, type 'exit' or 'quit'): \")\n",
    "    if (age == 'stop') or (age == 'exit') :\n",
    "        break\n",
    "    elif age.isdigit() :\n",
    "        age = int(age)\n",
    "        if age < 7:\n",
    "            price = 2000\n",
    "        elif (age >= 7) and (age < 18) :\n",
    "            price = 3000\n",
    "        elif (age >= 18) and (age <= 65) :\n",
    "            price = 3000 \n",
    "        else :\n",
    "            price = 0  \n",
    "        print(f\"The price is {price}\")     \n",
    "    else :\n",
    "        print(\"Please enter available number\")\n",
    "        \n",
    "\n",
    "\n"
   ]
  },
  {
   "cell_type": "code",
   "execution_count": 6,
   "metadata": {},
   "outputs": [
    {
     "name": "stdout",
     "output_type": "stream",
     "text": [
      "4 ning ildizi 2.0 ga teng\n",
      "6 ning ildizi 2.449489742783178 ga teng\n"
     ]
    }
   ],
   "source": [
    "savol =\"Kiritilgan sonning ildizini qaytaruvchi dastur.\\n\"\n",
    "savol += \"Musbat son kiriting \"\n",
    "savol += \"(dasturni to'xtatish uchun 'exit' deb yozing): \"\n",
    "\n",
    "while True:\n",
    "    qiymat = input(savol)\n",
    "    if qiymat.lower()=='exit':\n",
    "        break\n",
    "    elif float(qiymat)<0:\n",
    "        continue\n",
    "    \n",
    "    else:\n",
    "        ildiz = float(qiymat)**(0.5)\n",
    "        print(f\"{qiymat} ning ildizi {ildiz} ga teng\")"
   ]
  }
 ],
 "metadata": {
  "kernelspec": {
   "display_name": "Python 3",
   "language": "python",
   "name": "python3"
  },
  "language_info": {
   "codemirror_mode": {
    "name": "ipython",
    "version": 3
   },
   "file_extension": ".py",
   "mimetype": "text/x-python",
   "name": "python",
   "nbconvert_exporter": "python",
   "pygments_lexer": "ipython3",
   "version": "3.10.11"
  }
 },
 "nbformat": 4,
 "nbformat_minor": 2
}
