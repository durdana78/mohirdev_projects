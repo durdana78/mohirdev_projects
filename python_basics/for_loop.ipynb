{
 "cells": [
  {
   "cell_type": "code",
   "execution_count": 1,
   "metadata": {},
   "outputs": [
    {
     "name": "stdout",
     "output_type": "stream",
     "text": [
      "Xush kelibsiz,Lobar\n",
      "Xush kelibsiz,Periyzat\n",
      "Xush kelibsiz,Qumri\n",
      "Xush kelibsiz,Dilrabo\n",
      "Xush kelibsiz,Mumtozmahal\n",
      "Kod 5 marta takrorlandi\n"
     ]
    }
   ],
   "source": [
    "ismlar = ['Lobar', 'Periyzat', 'Qumri','Dilrabo','Mumtozmahal']\n",
    "n = 0\n",
    "for ism in ismlar :\n",
    "    print(f'Xush kelibsiz,{ism}')\n",
    "    n = n + 1\n",
    "print(f'Kod {n} marta takrorlandi')    "
   ]
  },
  {
   "cell_type": "code",
   "execution_count": null,
   "metadata": {},
   "outputs": [],
   "source": [
    "odd_nums = []\n",
    "for i in range(11,100,2) :\n",
    "    odd_nums.append(i)\n",
    "    print(i ** 3)\n",
    "\n"
   ]
  },
  {
   "cell_type": "code",
   "execution_count": 2,
   "metadata": {},
   "outputs": [
    {
     "name": "stdout",
     "output_type": "stream",
     "text": [
      "['a', 's', 'd', 'f', 'g']\n"
     ]
    }
   ],
   "source": [
    "movies = []\n",
    "for i in range(5) :\n",
    "    movies.append(input(f'{i + 1} - sevimli kinoyingizni kiriting'))\n",
    "print(movies)    \n"
   ]
  },
  {
   "cell_type": "code",
   "execution_count": 5,
   "metadata": {},
   "outputs": [
    {
     "name": "stdout",
     "output_type": "stream",
     "text": [
      "['s', 'd', 'f']\n"
     ]
    }
   ],
   "source": [
    "people = []\n",
    "num = int(input('How many people did you meet today?'))\n",
    "for i in range(num) :\n",
    "    people.append(input(f'write {i + 1}th person you met today'))\n",
    "print(people)    \n"
   ]
  }
 ],
 "metadata": {
  "kernelspec": {
   "display_name": "Python 3",
   "language": "python",
   "name": "python3"
  },
  "language_info": {
   "codemirror_mode": {
    "name": "ipython",
    "version": 3
   },
   "file_extension": ".py",
   "mimetype": "text/x-python",
   "name": "python",
   "nbconvert_exporter": "python",
   "pygments_lexer": "ipython3",
   "version": "3.10.11"
  }
 },
 "nbformat": 4,
 "nbformat_minor": 2
}
