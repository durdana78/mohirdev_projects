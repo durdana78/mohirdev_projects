{
 "cells": [
  {
   "cell_type": "code",
   "execution_count": 1,
   "metadata": {},
   "outputs": [
    {
     "name": "stdout",
     "output_type": "stream",
     "text": [
      "Dadamning ismi Azat, 47 yoshda, 1978-yili tug'ilgan\n"
     ]
    }
   ],
   "source": [
    "otam = {'ism':'Azat','yosh':'47','yil':'1978'}\n",
    "print(f\"Dadamning ismi {otam['ism']}, {otam['yosh']} yoshda, {otam['yil']}-yili tug'ilgan\")"
   ]
  },
  {
   "cell_type": "code",
   "execution_count": 3,
   "metadata": {},
   "outputs": [
    {
     "name": "stdout",
     "output_type": "stream",
     "text": [
      "dadamning yoqtirgan taomi mastava\n",
      "Singlim beshbarmoqni yaxshi koradi\n",
      "shorva buvamning sevimli taomi\n"
     ]
    }
   ],
   "source": [
    "fav_meal = {'dadam':'mastava', 'singlim':'beshbarmoq','oyim':'osh','buvam':'shorva','ukam':'manti'}\n",
    "print(f\"dadamning yoqtirgan taomi {fav_meal['dadam']}\")\n",
    "print(f\"Singlim {fav_meal['singlim']}ni yaxshi koradi\")\n",
    "print(f\"{fav_meal['buvam']} buvamning sevimli taomi\")"
   ]
  },
  {
   "cell_type": "code",
   "execution_count": 6,
   "metadata": {},
   "outputs": [
    {
     "data": {
      "text/plain": [
       "'yozuv'"
      ]
     },
     "execution_count": 6,
     "metadata": {},
     "output_type": "execute_result"
    }
   ],
   "source": [
    "python_dict = {'string':'yozuv', 'integer':'butun son','float':'decimal son','boolean':'True/False datatype', }\n",
    "word = input('Please enter the word that you want to know definition: ')\n",
    "python_dict.get(word,\"Bunday so'z lug'atimizda mavjud emas.\")"
   ]
  },
  {
   "cell_type": "code",
   "execution_count": 8,
   "metadata": {},
   "outputs": [
    {
     "name": "stdout",
     "output_type": "stream",
     "text": [
      "Bunday so'z lug'atimizda mavjud emas.\n"
     ]
    }
   ],
   "source": [
    "python_dict = {'string':'yozuv', 'integer':'butun son','float':'decimal son','boolean':'True/False datatype', }\n",
    "word = input('Please enter the word that you want to know definition: ')\n",
    "if word in python_dict :\n",
    "    print(python_dict[word])\n",
    "else :\n",
    "    print(\"Bunday so'z lug'atimizda mavjud emas.\")    "
   ]
  }
 ],
 "metadata": {
  "kernelspec": {
   "display_name": "Python 3",
   "language": "python",
   "name": "python3"
  },
  "language_info": {
   "codemirror_mode": {
    "name": "ipython",
    "version": 3
   },
   "file_extension": ".py",
   "mimetype": "text/x-python",
   "name": "python",
   "nbconvert_exporter": "python",
   "pygments_lexer": "ipython3",
   "version": "3.10.11"
  }
 },
 "nbformat": 4,
 "nbformat_minor": 2
}
